{
 "cells": [
  {
   "cell_type": "code",
   "execution_count": 1,
   "id": "4cb1575a",
   "metadata": {},
   "outputs": [
    {
     "name": "stdout",
     "output_type": "stream",
     "text": [
      "i: 0\n",
      "i: 1\n",
      "i: 2\n",
      "i: 3\n",
      "i: 4\n",
      "i: 5\n",
      "i: 6\n",
      "i: 7\n",
      "i: 8\n",
      "i: 9\n"
     ]
    }
   ],
   "source": [
    "i = 0 \n",
    "\n",
    "while(i<10):\n",
    "    print(\"i:\",i)\n",
    "    i+=1"
   ]
  },
  {
   "cell_type": "code",
   "execution_count": 2,
   "id": "4d8e3b08",
   "metadata": {},
   "outputs": [
    {
     "name": "stdout",
     "output_type": "stream",
     "text": [
      "i: 0\n",
      "i: 1\n",
      "i: 2\n",
      "i: 3\n",
      "i: 4\n"
     ]
    }
   ],
   "source": [
    "i = 0\n",
    "\n",
    "while (i <10):\n",
    "    if ( i == 5):\n",
    "        break\n",
    "    print(\"i:\",i)\n",
    "    i+=1"
   ]
  },
  {
   "cell_type": "code",
   "execution_count": 3,
   "id": "d309c0bd",
   "metadata": {},
   "outputs": [
    {
     "name": "stdout",
     "output_type": "stream",
     "text": [
      "i: 1\n",
      "i: 2\n"
     ]
    }
   ],
   "source": [
    "liste = [1,2,3,4,5]\n",
    "\n",
    "for i in liste:\n",
    "    if (i == 3):\n",
    "        break\n",
    "    print(\"i:\",i)"
   ]
  },
  {
   "cell_type": "code",
   "execution_count": 6,
   "id": "392d84d4",
   "metadata": {},
   "outputs": [
    {
     "name": "stdout",
     "output_type": "stream",
     "text": [
      "İsim(Çıkmak için 'q' ya basın):İzel\n",
      "İsminiz: İzel\n",
      "İsim(Çıkmak için 'q' ya basın):q\n",
      "Programdan Çıkılıyor...\n"
     ]
    }
   ],
   "source": [
    "while True:\n",
    "    isim = input(\"İsim(Çıkmak için 'q' ya basın):\")\n",
    "    if (isim == \"q\"):\n",
    "        print(\"Programdan Çıkılıyor...\")\n",
    "        break\n",
    "    print( \"İsminiz:\",isim)   "
   ]
  },
  {
   "cell_type": "code",
   "execution_count": 7,
   "id": "76acc70d",
   "metadata": {},
   "outputs": [
    {
     "name": "stdout",
     "output_type": "stream",
     "text": [
      "[0, 1, 2, 3, 4, 5, 6, 7, 8, 9, 10]\n"
     ]
    }
   ],
   "source": [
    "liste = list(range(11))\n",
    "print(liste)"
   ]
  },
  {
   "cell_type": "code",
   "execution_count": 10,
   "id": "b086d237",
   "metadata": {},
   "outputs": [
    {
     "name": "stdout",
     "output_type": "stream",
     "text": [
      "i: 0\n",
      "i: 1\n",
      "i: 2\n",
      "i: 3\n",
      "i: 4\n",
      "i: 5\n",
      "i: 6\n",
      "i: 7\n",
      "i: 8\n",
      "i: 9\n",
      "i: 10\n"
     ]
    }
   ],
   "source": [
    "for i in liste:\n",
    "    print(\"i:\",i)"
   ]
  },
  {
   "cell_type": "code",
   "execution_count": 16,
   "id": "08196fe3",
   "metadata": {},
   "outputs": [
    {
     "name": "stdout",
     "output_type": "stream",
     "text": [
      "i: 0\n",
      "i: 1\n",
      "i: 2\n",
      "i: 4\n",
      "i: 6\n",
      "i: 7\n",
      "i: 8\n",
      "i: 9\n",
      "i: 10\n"
     ]
    }
   ],
   "source": [
    "for i in liste:\n",
    "    if(i == 3 or i == 5):\n",
    "        continue\n",
    "    print(\"i:\",i)"
   ]
  }
 ],
 "metadata": {
  "kernelspec": {
   "display_name": "Python 3 (ipykernel)",
   "language": "python",
   "name": "python3"
  },
  "language_info": {
   "codemirror_mode": {
    "name": "ipython",
    "version": 3
   },
   "file_extension": ".py",
   "mimetype": "text/x-python",
   "name": "python",
   "nbconvert_exporter": "python",
   "pygments_lexer": "ipython3",
   "version": "3.9.7"
  }
 },
 "nbformat": 4,
 "nbformat_minor": 5
}
